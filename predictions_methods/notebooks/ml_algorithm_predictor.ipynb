{
 "cells": [
  {
   "cell_type": "code",
   "execution_count": 1,
   "metadata": {},
   "outputs": [],
   "source": [
    "import pickle\n",
    "import numpy as np\n",
    "import pandas as pd\n",
    "from sklearn import metrics\n",
    "from sklearn.preprocessing import StandardScaler\n",
    "from sklearn.model_selection import KFold\n",
    "from sklearn.model_selection import train_test_split\n",
    "from sklearn.linear_model import LinearRegression\n",
    "from sklearn.ensemble import RandomForestRegressor\n",
    "from sklearn.linear_model import LogisticRegression\n",
    "\n",
    "import pdb\n",
    "import seaborn as sns\n",
    "import matplotlib as plt\n",
    "from sklearn import linear_model"
   ]
  },
  {
   "cell_type": "code",
   "execution_count": 2,
   "metadata": {},
   "outputs": [],
   "source": [
    "class IncomingPredictions:\n",
    "    \"\"\"\n",
    "    This program \n",
    "    \"\"\"\n",
    "\n",
    "    def __init__(self):\n",
    "        \"\"\"\n",
    "        This program estimate the incoming based on the expenses in ads in social networks.\n",
    "        \"\"\"\n",
    "        self.model = None\n",
    "        self.model_path = \"../models/\"\n",
    "        self.data_train = pd.read_csv('../data/Train.csv')\n",
    "        self.data_test = pd.read_csv('../data/Test_predictors.csv')\n",
    "        self.data_local_train = pd.DataFrame()\n",
    "        self.data_local_test = pd.DataFrame()\n",
    "        self.prediction = pd.DataFrame()\n",
    "        self.best_params = dict()\n",
    "        self.models_mse = dict()\n",
    "        self.rdn_number = np.random.randint(200)\n",
    "        \n",
    "    def preprocess_data(self):\n",
    "        \"\"\"\n",
    "        This function preprocesses the data to be used in the model. Perform a normal scaling to both, \n",
    "        train and test data set. \n",
    "        The training set is split into two different sets, based on the class distribution:\n",
    "            1.- 80% of the data is just for local training.\n",
    "            2.- 20% of the data is only for local testing.\n",
    "            \n",
    "        \"\"\"\n",
    "        \n",
    "        # Rename the column Survived as target\n",
    "        self.data_train.rename(columns={\"Ingresos\": \"target\"}, inplace=True)\n",
    "        \n",
    "        # Fill nan values with the mean of the column\n",
    "        self.data_train.dropna(axis=0, inplace=True)\n",
    "\n",
    "#         feature_to_drop = \"Linkedin\"\n",
    "#         self.data_train.drop(feature_to_drop, axis=1)\n",
    "#         self.data_test.drop(feature_to_drop, axis=1)\n",
    "\n",
    "        # Drop rows with negative value in the Income\n",
    "        index_to_delete = self.data_train[self.data_train.target < 0].index\n",
    "        self.data_train = self.data_train.drop(index=index_to_delete, axis=0)\n",
    "            \n",
    "        # Scale the training data\n",
    "        scale = StandardScaler()\n",
    "        \n",
    "        scale.fit(self.data_train.drop(\"target\", axis=1))\n",
    "        x_scaled = scale.transform(self.data_train.drop(\"target\", axis=1))\n",
    "        x_scaled = pd.DataFrame(x_scaled, columns=self.data_train.drop(\"target\", axis=1).columns)\n",
    "        self.data_train = pd.concat([x_scaled, self.data_train.target.reset_index()], axis=1)\n",
    "        self.data_train = self.data_train.drop(\"index\", axis=1)\n",
    "\n",
    "        # Scale the test data\n",
    "        scale.fit(self.data_test)\n",
    "        x_test_scaled = scale.transform(self.data_test)\n",
    "        self.data_test = pd.DataFrame(x_test_scaled, columns=self.data_test.columns)\n",
    "        \n",
    "        # Define a new training and test set\n",
    "        self.data_local_train = self.data_train.sample(frac=0.8, random_state=self.rdn_number)\n",
    "        self.data_local_test = self.data_train.drop(self.data_local_train.index)\n",
    "        \n",
    "    def train_models(self):\n",
    "        \"\"\"\n",
    "        This function trains the model using the local training set and calculates the MSE over the local test set.\n",
    "        Performs a k-fold cross validation to find the best parameters for the model.\n",
    "        \"\"\"\n",
    "        \n",
    "        # Split the data into several stratified training and test set\n",
    "        kf = KFold(n_splits=6, random_state=self.rdn_number, shuffle=True)        \n",
    "        \n",
    "        # Create the model\n",
    "        temp_model = LinearRegression()\n",
    "\n",
    "        # Train the model\n",
    "        x_train = self.data_local_train.drop(\"target\", axis=1)\n",
    "        y_train = self.data_local_train.target\n",
    "        x_test = self.data_local_test.drop(\"target\", axis=1)\n",
    "        y_test = self.data_local_test.target\n",
    "\n",
    "        prediction = None\n",
    "        temp_mse = 10000000\n",
    "        \n",
    "        for train_index, test_index in kf.split(x_train, y_train):\n",
    "\n",
    "            temp_model.fit(x_train.iloc[train_index], y_train.iloc[train_index])\n",
    "            prediction_ = temp_model.predict(x_train.iloc[test_index])\n",
    "            mse_ = metrics.mean_squared_error(y_train.iloc[test_index], prediction_)\n",
    "            \n",
    "            print(\"inner -> \", mse_)\n",
    "            \n",
    "            # Evaluate the model\n",
    "            prediction = temp_model.predict(x_test)\n",
    "            mse = metrics.mean_squared_error(y_test, prediction)\n",
    "            print(\"Local TEST\", mse, \"\\n\")\n",
    "            \n",
    "            if mse < temp_mse:\n",
    "                temp_mse = mse\n",
    "                self.model = temp_model\n",
    "\n",
    "        # Save the model\n",
    "        with open(self.model_path + \"naive_model\", 'wb') as file:\n",
    "            pickle.dump(self.model, file)\n",
    "            \n",
    "    def evaluate_model(self):\n",
    "        \"\"\"\n",
    "        This function evaluates the model over the local test set (to calculate the final f1_score) as well as the \n",
    "        test set from the competition, which targets is unknown. Finally, save the results for competition in the file\n",
    "        \"y_pred\" in the data folder and the model.\n",
    "        \"\"\"\n",
    "        \n",
    "        x_test = self.data_local_test.drop(\"target\", axis=1)\n",
    "        y_test = self.data_local_test.target\n",
    "        \n",
    "        # Evaluate the model\n",
    "        y_pred = self.model.predict(x_test)\n",
    "        mse = metrics.mean_squared_error(y_test, y_pred)\n",
    "        \n",
    "        print(\"Local TEST\", mse)\n",
    "\n",
    "        # Save the results\n",
    "        y_pred = self.model.predict(self.data_test)\n",
    "        pd.DataFrame(y_pred, columns=[\"target\"]).to_csv('../data/y_pred.csv', index=False)\n",
    "        \n",
    "        return y_pred"
   ]
  },
  {
   "cell_type": "code",
   "execution_count": 3,
   "metadata": {},
   "outputs": [],
   "source": [
    "ip = IncomingPredictions()"
   ]
  },
  {
   "cell_type": "code",
   "execution_count": 4,
   "metadata": {},
   "outputs": [
    {
     "data": {
      "text/plain": [
       "Instagram     19792.474176\n",
       "Facebook       8032.739229\n",
       "Twitter       13117.205970\n",
       "Linkedin      29650.971980\n",
       "Discord       14067.753562\n",
       "Twitch        42157.148687\n",
       "Ingresos     636312.471975\n",
       "dtype: float64"
      ]
     },
     "execution_count": 4,
     "metadata": {},
     "output_type": "execute_result"
    }
   ],
   "source": [
    "ip.data_train.sum()"
   ]
  },
  {
   "cell_type": "code",
   "execution_count": 5,
   "metadata": {
    "scrolled": false
   },
   "outputs": [
    {
     "name": "stdout",
     "output_type": "stream",
     "text": [
      "inner ->  0.00010558599184057144\n",
      "Local TEST 9.453927025616398e-05 \n",
      "\n",
      "inner ->  9.968510939835105e-05\n",
      "Local TEST 9.419374306058303e-05 \n",
      "\n",
      "inner ->  9.914960077180625e-05\n",
      "Local TEST 9.460131222338464e-05 \n",
      "\n",
      "inner ->  9.812113260058235e-05\n",
      "Local TEST 9.435371917747424e-05 \n",
      "\n",
      "inner ->  9.787503327069618e-05\n",
      "Local TEST 9.443820175380513e-05 \n",
      "\n",
      "inner ->  9.88851060136493e-05\n",
      "Local TEST 9.450032814931602e-05 \n",
      "\n",
      "Local TEST 9.450032814931602e-05\n"
     ]
    }
   ],
   "source": [
    "ip.preprocess_data()\n",
    "ip.train_models()\n",
    "y_pred = ip.evaluate_model()"
   ]
  },
  {
   "cell_type": "markdown",
   "metadata": {},
   "source": [
    "## Testing with the original test set"
   ]
  },
  {
   "cell_type": "code",
   "execution_count": 6,
   "metadata": {},
   "outputs": [],
   "source": [
    "test = pd.read_csv(\"../data/Test_target.csv\", sep=\",\")"
   ]
  },
  {
   "cell_type": "markdown",
   "metadata": {},
   "source": [
    "#### Calculate the MSE using the prediction made over the test set and the correct results  "
   ]
  },
  {
   "cell_type": "code",
   "execution_count": 7,
   "metadata": {},
   "outputs": [
    {
     "data": {
      "text/plain": [
       "37.06086307279407"
      ]
     },
     "execution_count": 7,
     "metadata": {},
     "output_type": "execute_result"
    }
   ],
   "source": [
    "metrics.mean_squared_error(pd.DataFrame(test.index).to_numpy(), y_pred)"
   ]
  },
  {
   "cell_type": "code",
   "execution_count": 8,
   "metadata": {},
   "outputs": [
    {
     "data": {
      "text/plain": [
       "[<matplotlib.lines.Line2D at 0x7f7c7942ffd0>]"
      ]
     },
     "execution_count": 8,
     "metadata": {},
     "output_type": "execute_result"
    },
    {
     "data": {
      "image/png": "[encoded data removed]",
      "text/plain": [
       "<Figure size 720x504 with 1 Axes>"
      ]
     },
     "metadata": {
      "needs_background": "light"
     },
     "output_type": "display_data"
    }
   ],
   "source": [
    "original_test = pd.DataFrame(test.index).to_numpy()\n",
    "\n",
    "import matplotlib.pyplot as plt\n",
    "%matplotlib inline\n",
    "plt.figure(figsize=(10, 7))\n",
    "plt.plot(original_test, y_pred)"
   ]
  },
  {
   "cell_type": "code",
   "execution_count": null,
   "metadata": {},
   "outputs": [],
   "source": []
  }
 ],
 "metadata": {
  "kernelspec": {
   "display_name": "Python 3",
   "language": "python",
   "name": "python3"
  },
  "language_info": {
   "codemirror_mode": {
    "name": "ipython",
    "version": 3
   },
   "file_extension": ".py",
   "mimetype": "text/x-python",
   "name": "python",
   "nbconvert_exporter": "python",
   "pygments_lexer": "ipython3",
   "version": "3.8.10"
  }
 },
 "nbformat": 4,
 "nbformat_minor": 4
}
